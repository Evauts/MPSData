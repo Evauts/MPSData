{
 "cells": [
  {
   "cell_type": "code",
   "execution_count": 6,
   "metadata": {},
   "outputs": [],
   "source": [
    "#Import\n",
    "import pandas as pd"
   ]
  },
  {
   "cell_type": "code",
   "execution_count": 10,
   "metadata": {},
   "outputs": [],
   "source": [
    "MPS = pd.read_csv('MPSSampleData.csv',encoding='latin-1')  \n",
    "MPS_Clean = MPS[['CONSTITUENCY','GOVERNMENT AGENCY NAME','PRIVATE ORGANISATION NAME','APPEAL CATEGORY']]\n"
   ]
  },
  {
   "cell_type": "code",
   "execution_count": 20,
   "metadata": {},
   "outputs": [],
   "source": [
    "GovtAgencyCount = MPS_Clean['GOVERNMENT AGENCY NAME'].value_counts().reset_index()\n",
    "GovtAgencyCount.columns = ['AgencyName', 'Count']\n",
    "\n",
    "PrivAgencyCount = MPS_Clean['PRIVATE ORGANISATION NAME'].value_counts().reset_index()\n",
    "PrivAgencyCount.columns = ['AgencyName','Count']\n",
    "\n",
    "CombinedAgencyCount = pd.concat([GovtAgencyCount,PrivAgencyCount])\n",
    "FinalAgencyCount = CombinedAgencyCount.groupby('AgencyName').sum()\n",
    "\n",
    "FinalAgencyCount = FinalAgencyCount.sort_values(by = 'Count',ascending=False).reset_index()\n",
    "\n",
    "FinalAgencyCount.to_csv('AgencyCounts.csv',index=False)"
   ]
  }
 ],
 "metadata": {
  "kernelspec": {
   "display_name": "Python 3",
   "language": "python",
   "name": "python3"
  },
  "language_info": {
   "codemirror_mode": {
    "name": "ipython",
    "version": 3
   },
   "file_extension": ".py",
   "mimetype": "text/x-python",
   "name": "python",
   "nbconvert_exporter": "python",
   "pygments_lexer": "ipython3",
   "version": "3.11.5"
  }
 },
 "nbformat": 4,
 "nbformat_minor": 2
}
